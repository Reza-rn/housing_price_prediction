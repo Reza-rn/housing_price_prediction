{
 "cells": [
  {
   "cell_type": "code",
   "execution_count": 1,
   "id": "82c09d34",
   "metadata": {
    "_cell_guid": "b1076dfc-b9ad-4769-8c92-a6c4dae69d19",
    "_uuid": "8f2839f25d086af736a60e9eeb907d3b93b6e0e5",
    "execution": {
     "iopub.execute_input": "2022-10-10T01:39:34.833907Z",
     "iopub.status.busy": "2022-10-10T01:39:34.832960Z",
     "iopub.status.idle": "2022-10-10T01:39:34.848427Z",
     "shell.execute_reply": "2022-10-10T01:39:34.847245Z"
    },
    "papermill": {
     "duration": 0.027663,
     "end_time": "2022-10-10T01:39:34.850966",
     "exception": false,
     "start_time": "2022-10-10T01:39:34.823303",
     "status": "completed"
    },
    "tags": []
   },
   "outputs": [
    {
     "name": "stdout",
     "output_type": "stream",
     "text": [
      "/kaggle/input/house-prices-advanced-regression-techniques/sample_submission.csv\n",
      "/kaggle/input/house-prices-advanced-regression-techniques/data_description.txt\n",
      "/kaggle/input/house-prices-advanced-regression-techniques/train.csv\n",
      "/kaggle/input/house-prices-advanced-regression-techniques/test.csv\n"
     ]
    }
   ],
   "source": [
    "# This Python 3 environment comes with many helpful analytics libraries installed\n",
    "# It is defined by the kaggle/python Docker image: https://github.com/kaggle/docker-python\n",
    "# For example, here's several helpful packages to load\n",
    "\n",
    "import numpy as np # linear algebra\n",
    "import pandas as pd # data processing, CSV file I/O (e.g. pd.read_csv)\n",
    "\n",
    "# Input data files are available in the read-only \"../input/\" directory\n",
    "# For example, running this (by clicking run or pressing Shift+Enter) will list all files under the input directory\n",
    "\n",
    "import os\n",
    "for dirname, _, filenames in os.walk('/kaggle/input'):\n",
    "    for filename in filenames:\n",
    "        print(os.path.join(dirname, filename))\n",
    "\n",
    "# You can write up to 20GB to the current directory (/kaggle/working/) that gets preserved as output when you create a version using \"Save & Run All\" \n",
    "# You can also write temporary files to /kaggle/temp/, but they won't be saved outside of the current session"
   ]
  },
  {
   "cell_type": "markdown",
   "id": "156e1624",
   "metadata": {
    "papermill": {
     "duration": 0.006234,
     "end_time": "2022-10-10T01:39:34.864017",
     "exception": false,
     "start_time": "2022-10-10T01:39:34.857783",
     "status": "completed"
    },
    "tags": []
   },
   "source": [
    "# Load Data (both train and test data)"
   ]
  },
  {
   "cell_type": "code",
   "execution_count": 2,
   "id": "f02ff742",
   "metadata": {
    "execution": {
     "iopub.execute_input": "2022-10-10T01:39:34.879025Z",
     "iopub.status.busy": "2022-10-10T01:39:34.878242Z",
     "iopub.status.idle": "2022-10-10T01:39:34.958497Z",
     "shell.execute_reply": "2022-10-10T01:39:34.957576Z"
    },
    "papermill": {
     "duration": 0.090633,
     "end_time": "2022-10-10T01:39:34.961089",
     "exception": false,
     "start_time": "2022-10-10T01:39:34.870456",
     "status": "completed"
    },
    "tags": []
   },
   "outputs": [],
   "source": [
    "# train data\n",
    "df = pd.read_csv('../input/house-prices-advanced-regression-techniques/train.csv')\n",
    "\n",
    "# test data\n",
    "df_test = pd.read_csv('../input/house-prices-advanced-regression-techniques/test.csv')\n",
    "\n",
    "# Obtain Categorical columns\n",
    "categorical_cols = df.select_dtypes('object').keys()"
   ]
  },
  {
   "cell_type": "markdown",
   "id": "73726127",
   "metadata": {
    "papermill": {
     "duration": 0.006181,
     "end_time": "2022-10-10T01:39:34.973826",
     "exception": false,
     "start_time": "2022-10-10T01:39:34.967645",
     "status": "completed"
    },
    "tags": []
   },
   "source": [
    "# Process total dataframe"
   ]
  },
  {
   "cell_type": "code",
   "execution_count": 3,
   "id": "cc3a272e",
   "metadata": {
    "execution": {
     "iopub.execute_input": "2022-10-10T01:39:34.988939Z",
     "iopub.status.busy": "2022-10-10T01:39:34.987935Z",
     "iopub.status.idle": "2022-10-10T01:39:35.050503Z",
     "shell.execute_reply": "2022-10-10T01:39:35.049624Z"
    },
    "papermill": {
     "duration": 0.072656,
     "end_time": "2022-10-10T01:39:35.052971",
     "exception": false,
     "start_time": "2022-10-10T01:39:34.980315",
     "status": "completed"
    },
    "tags": []
   },
   "outputs": [],
   "source": [
    "df_total = df.copy()\n",
    "\n",
    "df_total.drop(['SalePrice'], axis=1, inplace=True)\n",
    "\n",
    "# append two data sets\n",
    "df_total = df_total.append(df_test,ignore_index=True)\n",
    "\n",
    "# Change NaN in categorical columns to NA:\n",
    "for i in categorical_cols:\n",
    "    df_total[i].fillna(value='NA', inplace=True)\n",
    "\n",
    "# Drop rows with NAN in non-categorical columns\n",
    "df_total.dropna(inplace=True)\n",
    "\n",
    "# Drop unneccessary columns:\n",
    "df_total.drop(['Id'],axis=1, inplace=True)"
   ]
  },
  {
   "cell_type": "markdown",
   "id": "4e08c69e",
   "metadata": {
    "papermill": {
     "duration": 0.006608,
     "end_time": "2022-10-10T01:39:35.068460",
     "exception": false,
     "start_time": "2022-10-10T01:39:35.061852",
     "status": "completed"
    },
    "tags": []
   },
   "source": [
    "# Process df1 as copy of train dataframe"
   ]
  },
  {
   "cell_type": "code",
   "execution_count": 4,
   "id": "e3430c5f",
   "metadata": {
    "execution": {
     "iopub.execute_input": "2022-10-10T01:39:35.082718Z",
     "iopub.status.busy": "2022-10-10T01:39:35.082339Z",
     "iopub.status.idle": "2022-10-10T01:39:35.113926Z",
     "shell.execute_reply": "2022-10-10T01:39:35.112389Z"
    },
    "papermill": {
     "duration": 0.0419,
     "end_time": "2022-10-10T01:39:35.116790",
     "exception": false,
     "start_time": "2022-10-10T01:39:35.074890",
     "status": "completed"
    },
    "tags": []
   },
   "outputs": [],
   "source": [
    "df1 = df.copy()\n",
    "\n",
    "# Change NaN in categorical columns to NA:\n",
    "for i in categorical_cols:\n",
    "    df1[i].fillna(value='NA', inplace=True)\n",
    "\n",
    "# Drop rows with NAN in non-categorical columns\n",
    "df1.dropna(inplace=True)\n",
    "\n",
    "# Drop unnecessary columns:\n",
    "df1.drop(['Id'],axis=1, inplace=True)"
   ]
  },
  {
   "cell_type": "markdown",
   "id": "ab52cb90",
   "metadata": {
    "papermill": {
     "duration": 0.00627,
     "end_time": "2022-10-10T01:39:35.129835",
     "exception": false,
     "start_time": "2022-10-10T01:39:35.123565",
     "status": "completed"
    },
    "tags": []
   },
   "source": [
    "# Encoding Categorical data"
   ]
  },
  {
   "cell_type": "code",
   "execution_count": 5,
   "id": "bfe11c32",
   "metadata": {
    "execution": {
     "iopub.execute_input": "2022-10-10T01:39:35.145139Z",
     "iopub.status.busy": "2022-10-10T01:39:35.144469Z",
     "iopub.status.idle": "2022-10-10T01:39:36.316578Z",
     "shell.execute_reply": "2022-10-10T01:39:36.315416Z"
    },
    "papermill": {
     "duration": 1.182587,
     "end_time": "2022-10-10T01:39:36.318926",
     "exception": false,
     "start_time": "2022-10-10T01:39:35.136339",
     "status": "completed"
    },
    "tags": []
   },
   "outputs": [
    {
     "data": {
      "text/plain": [
       "(1121, 259)"
      ]
     },
     "execution_count": 5,
     "metadata": {},
     "output_type": "execute_result"
    }
   ],
   "source": [
    "# Process non-categorical columns\n",
    "data_other_cols = df1.drop(columns=categorical_cols)\n",
    "data_other_cols = data_other_cols.to_numpy()\n",
    "\n",
    "\n",
    "from sklearn.compose import ColumnTransformer\n",
    "from sklearn.preprocessing import OneHotEncoder\n",
    "ct = ColumnTransformer(transformers=[('encoder', OneHotEncoder(drop='if_binary', sparse=False),categorical_cols)], remainder='drop')\n",
    "ct.fit(df_total)\n",
    "\n",
    "df1_new = ct.transform(df1)\n",
    "\n",
    "# convert to numpy sparse matrix\n",
    "#df1_new = df1.toarray()\n",
    "\n",
    "#Convert data type\n",
    "data_other_cols = data_other_cols.astype(int)\n",
    "\n",
    "# concatenate two matrices\n",
    "df2 = np.concatenate((df1_new,data_other_cols), axis=1)\n",
    "\n",
    "df1_new.shape"
   ]
  },
  {
   "cell_type": "markdown",
   "id": "4e9b31e5",
   "metadata": {
    "papermill": {
     "duration": 0.006126,
     "end_time": "2022-10-10T01:39:36.331549",
     "exception": false,
     "start_time": "2022-10-10T01:39:36.325423",
     "status": "completed"
    },
    "tags": []
   },
   "source": [
    "# Split X and y"
   ]
  },
  {
   "cell_type": "code",
   "execution_count": 6,
   "id": "2d9e79ef",
   "metadata": {
    "execution": {
     "iopub.execute_input": "2022-10-10T01:39:36.347486Z",
     "iopub.status.busy": "2022-10-10T01:39:36.346854Z",
     "iopub.status.idle": "2022-10-10T01:39:36.351952Z",
     "shell.execute_reply": "2022-10-10T01:39:36.350946Z"
    },
    "papermill": {
     "duration": 0.01523,
     "end_time": "2022-10-10T01:39:36.354209",
     "exception": false,
     "start_time": "2022-10-10T01:39:36.338979",
     "status": "completed"
    },
    "tags": []
   },
   "outputs": [],
   "source": [
    "X_train=df2[:,:-1]\n",
    "y_train=df2[:,-1]"
   ]
  },
  {
   "cell_type": "markdown",
   "id": "c2428068",
   "metadata": {
    "papermill": {
     "duration": 0.006126,
     "end_time": "2022-10-10T01:39:36.366843",
     "exception": false,
     "start_time": "2022-10-10T01:39:36.360717",
     "status": "completed"
    },
    "tags": []
   },
   "source": [
    "# Feature Scaling X_train and y_train"
   ]
  },
  {
   "cell_type": "code",
   "execution_count": 7,
   "id": "be68a77a",
   "metadata": {
    "execution": {
     "iopub.execute_input": "2022-10-10T01:39:36.381605Z",
     "iopub.status.busy": "2022-10-10T01:39:36.381203Z",
     "iopub.status.idle": "2022-10-10T01:39:36.389080Z",
     "shell.execute_reply": "2022-10-10T01:39:36.388024Z"
    },
    "papermill": {
     "duration": 0.018042,
     "end_time": "2022-10-10T01:39:36.391354",
     "exception": false,
     "start_time": "2022-10-10T01:39:36.373312",
     "status": "completed"
    },
    "tags": []
   },
   "outputs": [],
   "source": [
    "from sklearn.preprocessing import StandardScaler\n",
    "\n",
    "# X_train scaler\n",
    "scaler_X = StandardScaler()\n",
    "X_train[:,260:] = scaler_X.fit_transform(X_train[:,260:])\n",
    "\n",
    "# y_train scaler\n",
    "scaler_y = StandardScaler()\n",
    "y_train = scaler_y.fit_transform(y_train.reshape(-1,1))"
   ]
  },
  {
   "cell_type": "markdown",
   "id": "0474e9dc",
   "metadata": {
    "papermill": {
     "duration": 0.006113,
     "end_time": "2022-10-10T01:39:36.403977",
     "exception": false,
     "start_time": "2022-10-10T01:39:36.397864",
     "status": "completed"
    },
    "tags": []
   },
   "source": [
    "# Random Forest"
   ]
  },
  {
   "cell_type": "code",
   "execution_count": 8,
   "id": "4657be39",
   "metadata": {
    "execution": {
     "iopub.execute_input": "2022-10-10T01:39:36.418857Z",
     "iopub.status.busy": "2022-10-10T01:39:36.418128Z",
     "iopub.status.idle": "2022-10-10T01:39:39.318182Z",
     "shell.execute_reply": "2022-10-10T01:39:39.317030Z"
    },
    "papermill": {
     "duration": 2.910314,
     "end_time": "2022-10-10T01:39:39.320738",
     "exception": false,
     "start_time": "2022-10-10T01:39:36.410424",
     "status": "completed"
    },
    "tags": []
   },
   "outputs": [
    {
     "name": "stderr",
     "output_type": "stream",
     "text": [
      "/opt/conda/lib/python3.7/site-packages/ipykernel_launcher.py:5: DataConversionWarning: A column-vector y was passed when a 1d array was expected. Please change the shape of y to (n_samples,), for example using ravel().\n",
      "  \"\"\"\n"
     ]
    },
    {
     "data": {
      "text/plain": [
       "RandomForestRegressor(random_state=1)"
      ]
     },
     "execution_count": 8,
     "metadata": {},
     "output_type": "execute_result"
    }
   ],
   "source": [
    "from sklearn.ensemble import RandomForestRegressor\n",
    "\n",
    "Regressor = RandomForestRegressor(n_estimators= 100 , random_state = 1)\n",
    "\n",
    "Regressor.fit(X_train,y_train)"
   ]
  },
  {
   "cell_type": "markdown",
   "id": "d4594d5b",
   "metadata": {
    "papermill": {
     "duration": 0.006345,
     "end_time": "2022-10-10T01:39:39.333890",
     "exception": false,
     "start_time": "2022-10-10T01:39:39.327545",
     "status": "completed"
    },
    "tags": []
   },
   "source": [
    "# Now the test set"
   ]
  },
  {
   "cell_type": "code",
   "execution_count": 9,
   "id": "f3881316",
   "metadata": {
    "execution": {
     "iopub.execute_input": "2022-10-10T01:39:39.349191Z",
     "iopub.status.busy": "2022-10-10T01:39:39.348261Z",
     "iopub.status.idle": "2022-10-10T01:39:39.384625Z",
     "shell.execute_reply": "2022-10-10T01:39:39.383492Z"
    },
    "papermill": {
     "duration": 0.046862,
     "end_time": "2022-10-10T01:39:39.387402",
     "exception": false,
     "start_time": "2022-10-10T01:39:39.340540",
     "status": "completed"
    },
    "tags": []
   },
   "outputs": [],
   "source": [
    "# Get a copy of test dataframe\n",
    "df_test1 = df_test.copy()\n",
    "\n",
    "# Change NaN in categorical columns to NA:\n",
    "for i in categorical_cols:\n",
    "    df_test1[i].fillna(value='NA', inplace=True)\n",
    "    \n",
    "# Get the list of rows with NaN in non-categorical rows:\n",
    "Dropped_rows = df_test1[df_test1.isna().any(axis=1)]\n",
    "Dropped_rows_Id = Dropped_rows['Id'].values\n",
    "\n",
    "# Drop rows with NAN in non-categorical columns\n",
    "df_test1.dropna(inplace=True)\n",
    "\n",
    "# Drop unnecessary columns:\n",
    "df_test1.drop(['Id'],axis=1, inplace=True)\n",
    "\n",
    "#df_test1.info()"
   ]
  },
  {
   "cell_type": "markdown",
   "id": "898227d3",
   "metadata": {
    "papermill": {
     "duration": 0.006472,
     "end_time": "2022-10-10T01:39:39.400924",
     "exception": false,
     "start_time": "2022-10-10T01:39:39.394452",
     "status": "completed"
    },
    "tags": []
   },
   "source": [
    "# Encoding Categorical data"
   ]
  },
  {
   "cell_type": "code",
   "execution_count": 10,
   "id": "46792bcb",
   "metadata": {
    "execution": {
     "iopub.execute_input": "2022-10-10T01:39:39.416463Z",
     "iopub.status.busy": "2022-10-10T01:39:39.416009Z",
     "iopub.status.idle": "2022-10-10T01:39:39.457457Z",
     "shell.execute_reply": "2022-10-10T01:39:39.456646Z"
    },
    "papermill": {
     "duration": 0.051619,
     "end_time": "2022-10-10T01:39:39.459541",
     "exception": false,
     "start_time": "2022-10-10T01:39:39.407922",
     "status": "completed"
    },
    "tags": []
   },
   "outputs": [
    {
     "data": {
      "text/plain": [
       "(1146, 259)"
      ]
     },
     "execution_count": 10,
     "metadata": {},
     "output_type": "execute_result"
    }
   ],
   "source": [
    "# Obtain non-categorical columns\n",
    "data_other_cols_test = df_test1.drop(columns=categorical_cols)\n",
    "data_other_cols_test = data_other_cols_test.to_numpy()\n",
    "\n",
    "\n",
    "df_test1_new = ct.transform(df_test1)\n",
    "\n",
    "#Convert data type\n",
    "data_other_cols_test = data_other_cols_test.astype(int)\n",
    "\n",
    "# concatenate two matrices\n",
    "df_test2 = np.concatenate((df_test1_new,data_other_cols_test), axis=1)\n",
    "\n",
    "df_test1_new.shape"
   ]
  },
  {
   "cell_type": "markdown",
   "id": "00f61ef2",
   "metadata": {
    "papermill": {
     "duration": 0.006461,
     "end_time": "2022-10-10T01:39:39.472731",
     "exception": false,
     "start_time": "2022-10-10T01:39:39.466270",
     "status": "completed"
    },
    "tags": []
   },
   "source": [
    "# Feature Scaling"
   ]
  },
  {
   "cell_type": "code",
   "execution_count": 11,
   "id": "f1e08f99",
   "metadata": {
    "execution": {
     "iopub.execute_input": "2022-10-10T01:39:39.488314Z",
     "iopub.status.busy": "2022-10-10T01:39:39.487657Z",
     "iopub.status.idle": "2022-10-10T01:39:39.492912Z",
     "shell.execute_reply": "2022-10-10T01:39:39.492142Z"
    },
    "papermill": {
     "duration": 0.015522,
     "end_time": "2022-10-10T01:39:39.495055",
     "exception": false,
     "start_time": "2022-10-10T01:39:39.479533",
     "status": "completed"
    },
    "tags": []
   },
   "outputs": [],
   "source": [
    "df_test2[:,260:] = scaler_X.transform(df_test2[:,260:])"
   ]
  },
  {
   "cell_type": "markdown",
   "id": "3ad72624",
   "metadata": {
    "papermill": {
     "duration": 0.006622,
     "end_time": "2022-10-10T01:39:39.508429",
     "exception": false,
     "start_time": "2022-10-10T01:39:39.501807",
     "status": "completed"
    },
    "tags": []
   },
   "source": [
    "# Do predictions"
   ]
  },
  {
   "cell_type": "code",
   "execution_count": 12,
   "id": "3a17e018",
   "metadata": {
    "execution": {
     "iopub.execute_input": "2022-10-10T01:39:39.523840Z",
     "iopub.status.busy": "2022-10-10T01:39:39.523416Z",
     "iopub.status.idle": "2022-10-10T01:39:39.565007Z",
     "shell.execute_reply": "2022-10-10T01:39:39.563718Z"
    },
    "papermill": {
     "duration": 0.052336,
     "end_time": "2022-10-10T01:39:39.567660",
     "exception": false,
     "start_time": "2022-10-10T01:39:39.515324",
     "status": "completed"
    },
    "tags": []
   },
   "outputs": [
    {
     "name": "stdout",
     "output_type": "stream",
     "text": [
      "[[123832.  ]\n",
      " [156158.9 ]\n",
      " [188430.29]\n",
      " ...\n",
      " [ 90011.  ]\n",
      " [146117.79]\n",
      " [237703.23]]\n"
     ]
    }
   ],
   "source": [
    "# Use regressor to do prediction\n",
    "predictions = Regressor.predict(df_test2).reshape(-1,1)\n",
    "\n",
    "# Inverse scaling\n",
    "predictions = scaler_y.inverse_transform(predictions)\n",
    "\n",
    "print(predictions)"
   ]
  },
  {
   "cell_type": "markdown",
   "id": "44090f79",
   "metadata": {
    "papermill": {
     "duration": 0.00663,
     "end_time": "2022-10-10T01:39:39.581280",
     "exception": false,
     "start_time": "2022-10-10T01:39:39.574650",
     "status": "completed"
    },
    "tags": []
   },
   "source": [
    "# Import Sample predictions for calculating error"
   ]
  },
  {
   "cell_type": "code",
   "execution_count": 13,
   "id": "8cf4d1ac",
   "metadata": {
    "execution": {
     "iopub.execute_input": "2022-10-10T01:39:39.596723Z",
     "iopub.status.busy": "2022-10-10T01:39:39.596308Z",
     "iopub.status.idle": "2022-10-10T01:39:39.610321Z",
     "shell.execute_reply": "2022-10-10T01:39:39.609364Z"
    },
    "papermill": {
     "duration": 0.024579,
     "end_time": "2022-10-10T01:39:39.612756",
     "exception": false,
     "start_time": "2022-10-10T01:39:39.588177",
     "status": "completed"
    },
    "tags": []
   },
   "outputs": [],
   "source": [
    "df_predictions_sample = pd.read_csv('../input/house-prices-advanced-regression-techniques/sample_submission.csv')\n",
    "\n",
    "\n",
    "# Get a copy of the prediction samples\n",
    "df_predictions_sample1 = df_predictions_sample.copy()\n",
    "df_predictions_sample1.set_index('Id', inplace=True)\n",
    "\n",
    "# Drop rows that already removed due to having NaN\n",
    "df_predictions_sample1.drop(Dropped_rows_Id, inplace=True)\n",
    "\n",
    "# Get the predictions\n",
    "Predictions_sample = df_predictions_sample1.iloc[:,0]"
   ]
  },
  {
   "cell_type": "markdown",
   "id": "94c29335",
   "metadata": {
    "papermill": {
     "duration": 0.006413,
     "end_time": "2022-10-10T01:39:39.626044",
     "exception": false,
     "start_time": "2022-10-10T01:39:39.619631",
     "status": "completed"
    },
    "tags": []
   },
   "source": [
    "# Calculate rmsle error"
   ]
  },
  {
   "cell_type": "code",
   "execution_count": 14,
   "id": "bbfb17d9",
   "metadata": {
    "execution": {
     "iopub.execute_input": "2022-10-10T01:39:39.642102Z",
     "iopub.status.busy": "2022-10-10T01:39:39.640859Z",
     "iopub.status.idle": "2022-10-10T01:39:39.649489Z",
     "shell.execute_reply": "2022-10-10T01:39:39.648663Z"
    },
    "papermill": {
     "duration": 0.018586,
     "end_time": "2022-10-10T01:39:39.651506",
     "exception": false,
     "start_time": "2022-10-10T01:39:39.632920",
     "status": "completed"
    },
    "tags": []
   },
   "outputs": [
    {
     "data": {
      "text/plain": [
       "0.3532450963893092"
      ]
     },
     "execution_count": 14,
     "metadata": {},
     "output_type": "execute_result"
    }
   ],
   "source": [
    "from sklearn.metrics import mean_squared_log_error\n",
    "\n",
    "# calculate error msle\n",
    "error = mean_squared_log_error(Predictions_sample, predictions)\n",
    "\n",
    "# calcaulate rmsle\n",
    "error = np.sqrt(error)\n",
    "\n",
    "error"
   ]
  },
  {
   "cell_type": "markdown",
   "id": "4878faa8",
   "metadata": {
    "papermill": {
     "duration": 0.006666,
     "end_time": "2022-10-10T01:39:39.665063",
     "exception": false,
     "start_time": "2022-10-10T01:39:39.658397",
     "status": "completed"
    },
    "tags": []
   },
   "source": [
    "# Save to a .csv file"
   ]
  },
  {
   "cell_type": "code",
   "execution_count": 15,
   "id": "ac6ba477",
   "metadata": {
    "execution": {
     "iopub.execute_input": "2022-10-10T01:39:39.681125Z",
     "iopub.status.busy": "2022-10-10T01:39:39.680396Z",
     "iopub.status.idle": "2022-10-10T01:39:39.691860Z",
     "shell.execute_reply": "2022-10-10T01:39:39.690850Z"
    },
    "papermill": {
     "duration": 0.022186,
     "end_time": "2022-10-10T01:39:39.694260",
     "exception": false,
     "start_time": "2022-10-10T01:39:39.672074",
     "status": "completed"
    },
    "tags": []
   },
   "outputs": [],
   "source": [
    "submission = pd.DataFrame(predictions, columns=['SalePrice'], index=df_predictions_sample1.index)\n",
    "submission.reset_index()\n",
    "\n",
    "submission.to_csv('submission_reza.csv')"
   ]
  }
 ],
 "metadata": {
  "kernelspec": {
   "display_name": "Python 3",
   "language": "python",
   "name": "python3"
  },
  "language_info": {
   "codemirror_mode": {
    "name": "ipython",
    "version": 3
   },
   "file_extension": ".py",
   "mimetype": "text/x-python",
   "name": "python",
   "nbconvert_exporter": "python",
   "pygments_lexer": "ipython3",
   "version": "3.7.12"
  },
  "papermill": {
   "default_parameters": {},
   "duration": 14.428419,
   "end_time": "2022-10-10T01:39:40.421877",
   "environment_variables": {},
   "exception": null,
   "input_path": "__notebook__.ipynb",
   "output_path": "__notebook__.ipynb",
   "parameters": {},
   "start_time": "2022-10-10T01:39:25.993458",
   "version": "2.3.4"
  }
 },
 "nbformat": 4,
 "nbformat_minor": 5
}
